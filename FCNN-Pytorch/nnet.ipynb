{
 "metadata": {
  "language_info": {
   "codemirror_mode": {
    "name": "ipython",
    "version": 3
   },
   "file_extension": ".py",
   "mimetype": "text/x-python",
   "name": "python",
   "nbconvert_exporter": "python",
   "pygments_lexer": "ipython3",
   "version": "3.7.9"
  },
  "orig_nbformat": 2,
  "kernelspec": {
   "name": "python379jvsc74a57bd020d1e955e56f60934500e026a2c8995494ca6ff329c3eac4b4ea183ec5feda91",
   "display_name": "Python 3.7.9 64-bit ('cs231n': conda)"
  }
 },
 "nbformat": 4,
 "nbformat_minor": 2,
 "cells": [
  {
   "cell_type": "code",
   "execution_count": 1,
   "metadata": {},
   "outputs": [],
   "source": [
    "# 1) Imports\n",
    "import torch\n",
    "import torch.nn as nn   # All the neural network modules, ex nn.linear, loss functions\n",
    "import torch.optim as optim     # SGD, Adam, etc\n",
    "import torch.nn.functional as F     # All the functions that do not have any parameters, ie: relu, tanh\n",
    "                                    # These are also include in the nn package which is confusing\n",
    "from torch.utils.data import DataLoader \n",
    "import torchvision.datasets as datasets # Standar datasets that are easy to import\n",
    "import torchvision.transforms as transforms\n",
    "\n",
    "from torchsummary import summary # Print summary (layers and trainable params) of model\n",
    "\n",
    "import matplotlib.pyplot as plt"
   ]
  },
  {
   "cell_type": "code",
   "execution_count": 2,
   "metadata": {},
   "outputs": [],
   "source": [
    "# 2) Create fully connected network\n",
    "class NN(nn.Module):\n",
    "    def __init__(self, input_size, hidden_size, num_classes):\n",
    "        super(NN, self).__init__()\n",
    "        self.fc1 = nn.Linear(input_size, hidden_size)\n",
    "        self.fc2 = nn.Linear(hidden_size, num_classes)\n",
    "\n",
    "    def forward(self, x):\n",
    "        x = F.relu(self.fc1(x))\n",
    "        x = self.fc2(x)\n",
    "        return x"
   ]
  },
  {
   "cell_type": "code",
   "execution_count": 3,
   "metadata": {},
   "outputs": [
    {
     "output_type": "stream",
     "name": "stdout",
     "text": [
      "Device: cuda\n"
     ]
    }
   ],
   "source": [
    "# 3) Set device\n",
    "device = torch.device('cuda' if torch.cuda.is_available() else 'cpu')\n",
    "print(f'Device: {device}')\n",
    "\n",
    "# 4) Hyperparameters\n",
    "input_size = 784 # Images of size 28x28 with one channel\n",
    "hidden_size = 50 \n",
    "num_classes = 10\n",
    "learning_rate = 0.001\n",
    "batch_size = 64\n",
    "num_epochs = 3"
   ]
  },
  {
   "cell_type": "code",
   "execution_count": 4,
   "metadata": {},
   "outputs": [],
   "source": [
    "# 6) Load data\n",
    "train_dataset = datasets.MNIST(root='dataset/', train=True, transform=transforms.ToTensor(), download=True)\n",
    "train_loader = DataLoader(dataset=train_dataset, batch_size=batch_size, shuffle=True) # From one epoch to the next, \n",
    "                                                                                      # shuffles the batches \n",
    "                                                                                      # (diffeentent images in a \n",
    "                                                                                      # batch in diff epochs)\n",
    "\n",
    "test_dataset = datasets.MNIST(root='dataset/', train=False, transform=transforms.ToTensor(), download=True)\n",
    "test_loader = DataLoader(dataset=test_dataset, batch_size=batch_size, shuffle=True) "
   ]
  },
  {
   "cell_type": "code",
   "execution_count": 10,
   "metadata": {},
   "outputs": [],
   "source": [
    "# 7) Initialize network\n",
    "model = NN(input_size=input_size, hidden_size=hidden_size, num_classes=num_classes).to(device)\n",
    "\n",
    "# 8) Loss and optimizer\n",
    "criterion = nn.CrossEntropyLoss()\n",
    "optimizer = optim.Adam(model.parameters(), lr=learning_rate)"
   ]
  },
  {
   "cell_type": "code",
   "execution_count": 13,
   "metadata": {},
   "outputs": [
    {
     "output_type": "stream",
     "name": "stdout",
     "text": [
      "Epoch: 1/3\n",
      "Epoch: 2/3\n",
      "Epoch: 3/3\n"
     ]
    }
   ],
   "source": [
    "# 9) Train network\n",
    "for epoch in range(num_epochs):\n",
    "    \n",
    "    print(f'Epoch: {epoch + 1}/{num_epochs}')\n",
    "    \n",
    "    for batch_idx, (data, targets) in enumerate(train_loader):\n",
    "        # Get data to cuda if possible\n",
    "        data = data.to(device=device)\n",
    "        targets = targets.to(device=device)\n",
    "\n",
    "        # Reshape to correct shape\n",
    "        data = data.reshape(data.shape[0], -1) # here i can use data.flatten(start_dim=1) to reshape\n",
    "        \n",
    "        # Forward pass\n",
    "        scores = model(data)\n",
    "        loss = criterion(scores, targets)\n",
    "\n",
    "        # Backward pass\n",
    "        optimizer.zero_grad() # Set gradient to zero on each batch\n",
    "        loss.backward()\n",
    "\n",
    "        # Gradient descent or Adam step\n",
    "        optimizer.step()    \n"
   ]
  },
  {
   "cell_type": "code",
   "execution_count": 6,
   "metadata": {
    "tags": []
   },
   "outputs": [],
   "source": [
    "# 10) Check accuracy on training & test to see how good our model is\n",
    "\n",
    "def check_accuracy(loader, model):\n",
    "    if loader.dataset.train:\n",
    "        print(\"Checking accuracy on training data\")\n",
    "    else:\n",
    "        print(\"Checking accuracy on test data\")\n",
    "\n",
    "    num_correct = 0\n",
    "    num_samples = 0\n",
    "    model.eval() # Impact how the calculations are done\n",
    "\n",
    "    with torch.no_grad():\n",
    "        for x, y in loader:\n",
    "            x = x.to(device=device)\n",
    "            y = y.to(device=device)\n",
    "\n",
    "            x = x.reshape(x.shape[0], -1)\n",
    "\n",
    "            scores = model(x) # output=64x10 (num_images_in_each_batch x predictions)\n",
    "            _, predictions = scores.max(1) # predictions.shape() = 64x1\n",
    "            num_correct += (predictions == y).sum()\n",
    "            num_samples += predictions.size(0) # 64\n",
    "\n",
    "        print(f'Got {num_correct}/{num_samples} with accuracy {float(num_correct)/float(num_samples)*100:.2f}%') # Dos cifras significativas\n",
    "\n",
    "    model.train() # Return model to train mode, not necessary in this case since we are not training anymore\n",
    "\n",
    "# check_accuracy(train_loader, model)\n"
   ]
  },
  {
   "source": [
    "# Some exploration"
   ],
   "cell_type": "markdown",
   "metadata": {}
  },
  {
   "source": [
    "### DATALOADER: how to extract information about the dataset"
   ],
   "cell_type": "markdown",
   "metadata": {}
  },
  {
   "cell_type": "code",
   "execution_count": 6,
   "metadata": {},
   "outputs": [
    {
     "output_type": "stream",
     "name": "stdout",
     "text": [
      "Dataset MNIST\n    Number of datapoints: 60000\n    Root location: dataset/\n    Split: Train\n    StandardTransform\nTransform: ToTensor() \n\n64 \n\n938 = num_samples/batch_size \n\n['0 - zero', '1 - one', '2 - two', '3 - three', '4 - four', '5 - five', '6 - six', '7 - seven', '8 - eight', '9 - nine']\ndataset/\n60000 \n\n<class 'torch.Tensor'>\ntorch.Size([64, 1, 28, 28])\ntorch.Size([64])\nTo flatten the dim i can use pyTorch:  torch.Size([64, 784])\n"
     ]
    }
   ],
   "source": [
    "print(train_loader.dataset, '\\n')\n",
    "print(train_loader.batch_size , '\\n')\n",
    "print(len(train_loader), '= num_samples/batch_size', '\\n')\n",
    "\n",
    "print(train_loader.dataset.classes)\n",
    "print(train_loader.dataset.root)\n",
    "print(len(train_loader.dataset), '\\n')\n",
    "\n",
    "# Get shape of data from the dataloader\n",
    "images, labels = iter(train_loader).next()\n",
    "print(type(images))\n",
    "print(images.size()) # size and shape are correct\n",
    "print(labels.shape)\n",
    "print(\"To flatten the dim i can use pyTorch: \", images.flatten(start_dim=1).size())\n"
   ]
  },
  {
   "source": [
    "OBS: .shape is an alias for .size(), and was added to more closely match numpy. Both are correct."
   ],
   "cell_type": "markdown",
   "metadata": {}
  },
  {
   "source": [
    "### MODEL:"
   ],
   "cell_type": "markdown",
   "metadata": {}
  },
  {
   "cell_type": "code",
   "execution_count": 7,
   "metadata": {},
   "outputs": [
    {
     "output_type": "stream",
     "name": "stdout",
     "text": [
      "From pytorch doc: \n You just have to define the forward function, and the backward function (where gradients are computed) is automatically defined for you using autograd. You can use any of the Tensor operations in the forward function. \n\nNN(\n  (fc1): Linear(in_features=784, out_features=50, bias=True)\n  (fc2): Linear(in_features=50, out_features=10, bias=True)\n) \n\n4\n<class 'torch.Tensor'> torch.Size([50, 784])\n<class 'torch.Tensor'> torch.Size([50])\n<class 'torch.Tensor'> torch.Size([10, 50])\n<class 'torch.Tensor'> torch.Size([10])\n\n----------------------------------------------------------------\n        Layer (type)               Output Shape         Param #\n================================================================\n            Linear-1               [-1, 64, 50]          39,250\n            Linear-2               [-1, 64, 10]             510\n================================================================\nTotal params: 39,760\nTrainable params: 39,760\nNon-trainable params: 0\n----------------------------------------------------------------\nInput size (MB): 0.19\nForward/backward pass size (MB): 0.03\nParams size (MB): 0.15\nEstimated Total Size (MB): 0.37\n----------------------------------------------------------------\nNone\n\nCheck where the model is:  True\ntorch.Size([1, 784])\nOutput of the network:  tensor([[-0.1406,  0.0306,  0.4236, -0.0929, -0.0139,  0.1235, -0.1467,  0.2114,\n          0.1012,  0.0957]], device='cuda:0', grad_fn=<AddmmBackward>)\ntensor([[-0.1406,  0.0306,  0.4236, -0.0929, -0.0139,  0.1235, -0.1467,  0.2114,\n          0.1012,  0.0957]], device='cuda:0')\n"
     ]
    }
   ],
   "source": [
    "print(\"From pytorch doc: \\n You just have to define the forward function, and the backward function (where gradients are computed) is automatically defined for you using autograd. You can use any of the Tensor operations in the forward function. \\n\")\n",
    "\n",
    "\n",
    "####################### Model achitecture and parameters ####################\n",
    "print(model, \"\\n\")\n",
    "\n",
    "# model.parameters: Returns an iterator over module parameters.\n",
    "#                   This is typically passed to an optimizer.\n",
    "print(len(list(model.parameters())))\n",
    "for param in model.parameters():\n",
    "    print(type(param.data), param.size())\n",
    "print()\n",
    "print(summary(model, (64, 784)))\n",
    "print()\n",
    "print(\"Check where the model is: \", next(model.parameters()).is_cuda)\n",
    "\n",
    "####################### Data shape, etc ####################\n",
    "# One sample\n",
    "input = torch.randn(1, 1, 28, 28).flatten(start_dim=1).to(device=device)\n",
    "print(input.size())\n",
    "\n",
    "out = model(input)\n",
    "print(\"Output of the network: \", out)\n",
    "print(out.clone().data)\n",
    "\n"
   ]
  },
  {
   "source": [
    "OBS: .data should be used carefully, as it detaches the tensor from the computation graph and might lead to wrong results. (from https://discuss.pytorch.org/t/getting-data-from-tensor/2785/5). I can clone and then .data to get data"
   ],
   "cell_type": "markdown",
   "metadata": {}
  },
  {
   "source": [
    "### TUTO: https://pytorch.org/tutorials/beginner/blitz/neural_networks_tutorial.html"
   ],
   "cell_type": "markdown",
   "metadata": {}
  },
  {
   "source": [
    "## How to save and load pytorch models"
   ],
   "cell_type": "markdown",
   "metadata": {}
  },
  {
   "cell_type": "code",
   "execution_count": 20,
   "metadata": {},
   "outputs": [
    {
     "output_type": "execute_result",
     "data": {
      "text/plain": [
       "NN(\n",
       "  (fc1): Linear(in_features=784, out_features=50, bias=True)\n",
       "  (fc2): Linear(in_features=50, out_features=10, bias=True)\n",
       ")"
      ]
     },
     "metadata": {},
     "execution_count": 20
    }
   ],
   "source": [
    "# Steps:\n",
    "#   Define and intialize the model\n",
    "#   Initialize the optimizer (ie: SGD, Adam, etc)\n",
    "#   Save general checkpoint\n",
    "#   Load the general checkpoint\n",
    "\n",
    "PATH = \"model.pt\"\n",
    "\n",
    "# Save the model\n",
    "torch.save({\n",
    "            'model_state_dict': model.state_dict(),\n",
    "            'optimizer_state_dict': optimizer.state_dict(),\n",
    "            }, PATH)\n",
    "\n",
    "checkpoint = torch.load(PATH)\n",
    "model.load_state_dict(checkpoint['model_state_dict'])\n",
    "optimizer.load_state_dict(checkpoint['optimizer_state_dict'])\n",
    "\n",
    "model.eval()\n",
    "# - or -\n",
    "# model.train()\n"
   ]
  },
  {
   "source": [
    "## CHECK memory usage of gpu and why is not training with cuda"
   ],
   "cell_type": "markdown",
   "metadata": {}
  },
  {
   "cell_type": "code",
   "execution_count": 5,
   "metadata": {},
   "outputs": [
    {
     "output_type": "stream",
     "name": "stdout",
     "text": [
      "Using device: cuda\n",
      "\n",
      "GeForce GTX 1050 Ti\n",
      "4\n",
      "Memory Usage:\n",
      "\t Allocated: 512 bytes\n",
      "\t Cached:    2097152 bytes\n"
     ]
    }
   ],
   "source": [
    "def tensor_mem_usage(a):\n",
    "    \"\"\" Returns memory usage of tensor 'a' in bytes\n",
    "    \"\"\"\n",
    "    return a.element_size() * a.nelement()\n",
    "\n",
    "# setting device on GPU if available, else CPU\n",
    "device = torch.device('cuda' if torch.cuda.is_available() else 'cpu')\n",
    "print('Using device:', device)\n",
    "print()\n",
    "\n",
    "#Additional Info when using cuda\n",
    "if device.type == 'cuda':\n",
    "    print(torch.cuda.get_device_name(0))\n",
    "    vector = torch.FloatTensor(1).to('cuda')\n",
    "    print(tensor_mem_usage(vector))\n",
    "    print('Memory Usage:')\n",
    "    print('\\t Allocated:', round(\n",
    "        torch.cuda.memory_allocated(0), 1), 'bytes')\n",
    "    print('\\t Cached:   ', round(\n",
    "        torch.cuda.memory_reserved(0), 1), 'bytes')"
   ]
  },
  {
   "source": [
    "## The idea is to create a modular training loop with functions to deploy to ClusterUY"
   ],
   "cell_type": "markdown",
   "metadata": {}
  },
  {
   "cell_type": "code",
   "execution_count": 9,
   "metadata": {},
   "outputs": [
    {
     "output_type": "stream",
     "name": "stdout",
     "text": [
      "Checking accuracy on training data\n",
      "Got 58887/60000 with accuracy 98.15%\n",
      "Epoch: 15.\n",
      "Epoch: 16.\n",
      "Epoch: 17.\n",
      "Epoch: 18.\n",
      "Epoch: 19.\n",
      "Epoch: 20.\n",
      "Checking accuracy on training data\n",
      "Got 59238/60000 with accuracy 98.73%\n"
     ]
    },
    {
     "output_type": "display_data",
     "data": {
      "text/plain": "<Figure size 432x288 with 1 Axes>",
      "image/svg+xml": "<?xml version=\"1.0\" encoding=\"utf-8\" standalone=\"no\"?>\n<!DOCTYPE svg PUBLIC \"-//W3C//DTD SVG 1.1//EN\"\n  \"http://www.w3.org/Graphics/SVG/1.1/DTD/svg11.dtd\">\n<!-- Created with matplotlib (https://matplotlib.org/) -->\n<svg height=\"265.69625pt\" version=\"1.1\" viewBox=\"0 0 395.64375 265.69625\" width=\"395.64375pt\" xmlns=\"http://www.w3.org/2000/svg\" xmlns:xlink=\"http://www.w3.org/1999/xlink\">\n <defs>\n  <style type=\"text/css\">\n*{stroke-linecap:butt;stroke-linejoin:round;}\n  </style>\n </defs>\n <g id=\"figure_1\">\n  <g id=\"patch_1\">\n   <path d=\"M 0 265.69625 \nL 395.64375 265.69625 \nL 395.64375 0 \nL 0 0 \nz\n\" style=\"fill:none;\"/>\n  </g>\n  <g id=\"axes_1\">\n   <g id=\"patch_2\">\n    <path d=\"M 50.14375 228.14 \nL 384.94375 228.14 \nL 384.94375 10.7 \nL 50.14375 10.7 \nz\n\" style=\"fill:#ffffff;\"/>\n   </g>\n   <g id=\"matplotlib.axis_1\">\n    <g id=\"xtick_1\">\n     <g id=\"line2d_1\">\n      <defs>\n       <path d=\"M 0 0 \nL 0 3.5 \n\" id=\"m73c5e087af\" style=\"stroke:#000000;stroke-width:0.8;\"/>\n      </defs>\n      <g>\n       <use style=\"stroke:#000000;stroke-width:0.8;\" x=\"65.361932\" xlink:href=\"#m73c5e087af\" y=\"228.14\"/>\n      </g>\n     </g>\n     <g id=\"text_1\">\n      <!-- 0.0 -->\n      <defs>\n       <path d=\"M 31.78125 66.40625 \nQ 24.171875 66.40625 20.328125 58.90625 \nQ 16.5 51.421875 16.5 36.375 \nQ 16.5 21.390625 20.328125 13.890625 \nQ 24.171875 6.390625 31.78125 6.390625 \nQ 39.453125 6.390625 43.28125 13.890625 \nQ 47.125 21.390625 47.125 36.375 \nQ 47.125 51.421875 43.28125 58.90625 \nQ 39.453125 66.40625 31.78125 66.40625 \nz\nM 31.78125 74.21875 \nQ 44.046875 74.21875 50.515625 64.515625 \nQ 56.984375 54.828125 56.984375 36.375 \nQ 56.984375 17.96875 50.515625 8.265625 \nQ 44.046875 -1.421875 31.78125 -1.421875 \nQ 19.53125 -1.421875 13.0625 8.265625 \nQ 6.59375 17.96875 6.59375 36.375 \nQ 6.59375 54.828125 13.0625 64.515625 \nQ 19.53125 74.21875 31.78125 74.21875 \nz\n\" id=\"DejaVuSans-48\"/>\n       <path d=\"M 10.6875 12.40625 \nL 21 12.40625 \nL 21 0 \nL 10.6875 0 \nz\n\" id=\"DejaVuSans-46\"/>\n      </defs>\n      <g transform=\"translate(57.410369 242.738437)scale(0.1 -0.1)\">\n       <use xlink:href=\"#DejaVuSans-48\"/>\n       <use x=\"63.623047\" xlink:href=\"#DejaVuSans-46\"/>\n       <use x=\"95.410156\" xlink:href=\"#DejaVuSans-48\"/>\n      </g>\n     </g>\n    </g>\n    <g id=\"xtick_2\">\n     <g id=\"line2d_2\">\n      <g>\n       <use style=\"stroke:#000000;stroke-width:0.8;\" x=\"103.407386\" xlink:href=\"#m73c5e087af\" y=\"228.14\"/>\n      </g>\n     </g>\n     <g id=\"text_2\">\n      <!-- 2.5 -->\n      <defs>\n       <path d=\"M 19.1875 8.296875 \nL 53.609375 8.296875 \nL 53.609375 0 \nL 7.328125 0 \nL 7.328125 8.296875 \nQ 12.9375 14.109375 22.625 23.890625 \nQ 32.328125 33.6875 34.8125 36.53125 \nQ 39.546875 41.84375 41.421875 45.53125 \nQ 43.3125 49.21875 43.3125 52.78125 \nQ 43.3125 58.59375 39.234375 62.25 \nQ 35.15625 65.921875 28.609375 65.921875 \nQ 23.96875 65.921875 18.8125 64.3125 \nQ 13.671875 62.703125 7.8125 59.421875 \nL 7.8125 69.390625 \nQ 13.765625 71.78125 18.9375 73 \nQ 24.125 74.21875 28.421875 74.21875 \nQ 39.75 74.21875 46.484375 68.546875 \nQ 53.21875 62.890625 53.21875 53.421875 \nQ 53.21875 48.921875 51.53125 44.890625 \nQ 49.859375 40.875 45.40625 35.40625 \nQ 44.1875 33.984375 37.640625 27.21875 \nQ 31.109375 20.453125 19.1875 8.296875 \nz\n\" id=\"DejaVuSans-50\"/>\n       <path d=\"M 10.796875 72.90625 \nL 49.515625 72.90625 \nL 49.515625 64.59375 \nL 19.828125 64.59375 \nL 19.828125 46.734375 \nQ 21.96875 47.46875 24.109375 47.828125 \nQ 26.265625 48.1875 28.421875 48.1875 \nQ 40.625 48.1875 47.75 41.5 \nQ 54.890625 34.8125 54.890625 23.390625 \nQ 54.890625 11.625 47.5625 5.09375 \nQ 40.234375 -1.421875 26.90625 -1.421875 \nQ 22.3125 -1.421875 17.546875 -0.640625 \nQ 12.796875 0.140625 7.71875 1.703125 \nL 7.71875 11.625 \nQ 12.109375 9.234375 16.796875 8.0625 \nQ 21.484375 6.890625 26.703125 6.890625 \nQ 35.15625 6.890625 40.078125 11.328125 \nQ 45.015625 15.765625 45.015625 23.390625 \nQ 45.015625 31 40.078125 35.4375 \nQ 35.15625 39.890625 26.703125 39.890625 \nQ 22.75 39.890625 18.8125 39.015625 \nQ 14.890625 38.140625 10.796875 36.28125 \nz\n\" id=\"DejaVuSans-53\"/>\n      </defs>\n      <g transform=\"translate(95.455824 242.738437)scale(0.1 -0.1)\">\n       <use xlink:href=\"#DejaVuSans-50\"/>\n       <use x=\"63.623047\" xlink:href=\"#DejaVuSans-46\"/>\n       <use x=\"95.410156\" xlink:href=\"#DejaVuSans-53\"/>\n      </g>\n     </g>\n    </g>\n    <g id=\"xtick_3\">\n     <g id=\"line2d_3\">\n      <g>\n       <use style=\"stroke:#000000;stroke-width:0.8;\" x=\"141.452841\" xlink:href=\"#m73c5e087af\" y=\"228.14\"/>\n      </g>\n     </g>\n     <g id=\"text_3\">\n      <!-- 5.0 -->\n      <g transform=\"translate(133.501278 242.738437)scale(0.1 -0.1)\">\n       <use xlink:href=\"#DejaVuSans-53\"/>\n       <use x=\"63.623047\" xlink:href=\"#DejaVuSans-46\"/>\n       <use x=\"95.410156\" xlink:href=\"#DejaVuSans-48\"/>\n      </g>\n     </g>\n    </g>\n    <g id=\"xtick_4\">\n     <g id=\"line2d_4\">\n      <g>\n       <use style=\"stroke:#000000;stroke-width:0.8;\" x=\"179.498295\" xlink:href=\"#m73c5e087af\" y=\"228.14\"/>\n      </g>\n     </g>\n     <g id=\"text_4\">\n      <!-- 7.5 -->\n      <defs>\n       <path d=\"M 8.203125 72.90625 \nL 55.078125 72.90625 \nL 55.078125 68.703125 \nL 28.609375 0 \nL 18.3125 0 \nL 43.21875 64.59375 \nL 8.203125 64.59375 \nz\n\" id=\"DejaVuSans-55\"/>\n      </defs>\n      <g transform=\"translate(171.546733 242.738437)scale(0.1 -0.1)\">\n       <use xlink:href=\"#DejaVuSans-55\"/>\n       <use x=\"63.623047\" xlink:href=\"#DejaVuSans-46\"/>\n       <use x=\"95.410156\" xlink:href=\"#DejaVuSans-53\"/>\n      </g>\n     </g>\n    </g>\n    <g id=\"xtick_5\">\n     <g id=\"line2d_5\">\n      <g>\n       <use style=\"stroke:#000000;stroke-width:0.8;\" x=\"217.54375\" xlink:href=\"#m73c5e087af\" y=\"228.14\"/>\n      </g>\n     </g>\n     <g id=\"text_5\">\n      <!-- 10.0 -->\n      <defs>\n       <path d=\"M 12.40625 8.296875 \nL 28.515625 8.296875 \nL 28.515625 63.921875 \nL 10.984375 60.40625 \nL 10.984375 69.390625 \nL 28.421875 72.90625 \nL 38.28125 72.90625 \nL 38.28125 8.296875 \nL 54.390625 8.296875 \nL 54.390625 0 \nL 12.40625 0 \nz\n\" id=\"DejaVuSans-49\"/>\n      </defs>\n      <g transform=\"translate(206.410938 242.738437)scale(0.1 -0.1)\">\n       <use xlink:href=\"#DejaVuSans-49\"/>\n       <use x=\"63.623047\" xlink:href=\"#DejaVuSans-48\"/>\n       <use x=\"127.246094\" xlink:href=\"#DejaVuSans-46\"/>\n       <use x=\"159.033203\" xlink:href=\"#DejaVuSans-48\"/>\n      </g>\n     </g>\n    </g>\n    <g id=\"xtick_6\">\n     <g id=\"line2d_6\">\n      <g>\n       <use style=\"stroke:#000000;stroke-width:0.8;\" x=\"255.589205\" xlink:href=\"#m73c5e087af\" y=\"228.14\"/>\n      </g>\n     </g>\n     <g id=\"text_6\">\n      <!-- 12.5 -->\n      <g transform=\"translate(244.456392 242.738437)scale(0.1 -0.1)\">\n       <use xlink:href=\"#DejaVuSans-49\"/>\n       <use x=\"63.623047\" xlink:href=\"#DejaVuSans-50\"/>\n       <use x=\"127.246094\" xlink:href=\"#DejaVuSans-46\"/>\n       <use x=\"159.033203\" xlink:href=\"#DejaVuSans-53\"/>\n      </g>\n     </g>\n    </g>\n    <g id=\"xtick_7\">\n     <g id=\"line2d_7\">\n      <g>\n       <use style=\"stroke:#000000;stroke-width:0.8;\" x=\"293.634659\" xlink:href=\"#m73c5e087af\" y=\"228.14\"/>\n      </g>\n     </g>\n     <g id=\"text_7\">\n      <!-- 15.0 -->\n      <g transform=\"translate(282.501847 242.738437)scale(0.1 -0.1)\">\n       <use xlink:href=\"#DejaVuSans-49\"/>\n       <use x=\"63.623047\" xlink:href=\"#DejaVuSans-53\"/>\n       <use x=\"127.246094\" xlink:href=\"#DejaVuSans-46\"/>\n       <use x=\"159.033203\" xlink:href=\"#DejaVuSans-48\"/>\n      </g>\n     </g>\n    </g>\n    <g id=\"xtick_8\">\n     <g id=\"line2d_8\">\n      <g>\n       <use style=\"stroke:#000000;stroke-width:0.8;\" x=\"331.680114\" xlink:href=\"#m73c5e087af\" y=\"228.14\"/>\n      </g>\n     </g>\n     <g id=\"text_8\">\n      <!-- 17.5 -->\n      <g transform=\"translate(320.547301 242.738437)scale(0.1 -0.1)\">\n       <use xlink:href=\"#DejaVuSans-49\"/>\n       <use x=\"63.623047\" xlink:href=\"#DejaVuSans-55\"/>\n       <use x=\"127.246094\" xlink:href=\"#DejaVuSans-46\"/>\n       <use x=\"159.033203\" xlink:href=\"#DejaVuSans-53\"/>\n      </g>\n     </g>\n    </g>\n    <g id=\"xtick_9\">\n     <g id=\"line2d_9\">\n      <g>\n       <use style=\"stroke:#000000;stroke-width:0.8;\" x=\"369.725568\" xlink:href=\"#m73c5e087af\" y=\"228.14\"/>\n      </g>\n     </g>\n     <g id=\"text_9\">\n      <!-- 20.0 -->\n      <g transform=\"translate(358.592756 242.738437)scale(0.1 -0.1)\">\n       <use xlink:href=\"#DejaVuSans-50\"/>\n       <use x=\"63.623047\" xlink:href=\"#DejaVuSans-48\"/>\n       <use x=\"127.246094\" xlink:href=\"#DejaVuSans-46\"/>\n       <use x=\"159.033203\" xlink:href=\"#DejaVuSans-48\"/>\n      </g>\n     </g>\n    </g>\n    <g id=\"text_10\">\n     <!-- EPOCH -->\n     <defs>\n      <path d=\"M 9.8125 72.90625 \nL 55.90625 72.90625 \nL 55.90625 64.59375 \nL 19.671875 64.59375 \nL 19.671875 43.015625 \nL 54.390625 43.015625 \nL 54.390625 34.71875 \nL 19.671875 34.71875 \nL 19.671875 8.296875 \nL 56.78125 8.296875 \nL 56.78125 0 \nL 9.8125 0 \nz\n\" id=\"DejaVuSans-69\"/>\n      <path d=\"M 19.671875 64.796875 \nL 19.671875 37.40625 \nL 32.078125 37.40625 \nQ 38.96875 37.40625 42.71875 40.96875 \nQ 46.484375 44.53125 46.484375 51.125 \nQ 46.484375 57.671875 42.71875 61.234375 \nQ 38.96875 64.796875 32.078125 64.796875 \nz\nM 9.8125 72.90625 \nL 32.078125 72.90625 \nQ 44.34375 72.90625 50.609375 67.359375 \nQ 56.890625 61.8125 56.890625 51.125 \nQ 56.890625 40.328125 50.609375 34.8125 \nQ 44.34375 29.296875 32.078125 29.296875 \nL 19.671875 29.296875 \nL 19.671875 0 \nL 9.8125 0 \nz\n\" id=\"DejaVuSans-80\"/>\n      <path d=\"M 39.40625 66.21875 \nQ 28.65625 66.21875 22.328125 58.203125 \nQ 16.015625 50.203125 16.015625 36.375 \nQ 16.015625 22.609375 22.328125 14.59375 \nQ 28.65625 6.59375 39.40625 6.59375 \nQ 50.140625 6.59375 56.421875 14.59375 \nQ 62.703125 22.609375 62.703125 36.375 \nQ 62.703125 50.203125 56.421875 58.203125 \nQ 50.140625 66.21875 39.40625 66.21875 \nz\nM 39.40625 74.21875 \nQ 54.734375 74.21875 63.90625 63.9375 \nQ 73.09375 53.65625 73.09375 36.375 \nQ 73.09375 19.140625 63.90625 8.859375 \nQ 54.734375 -1.421875 39.40625 -1.421875 \nQ 24.03125 -1.421875 14.8125 8.828125 \nQ 5.609375 19.09375 5.609375 36.375 \nQ 5.609375 53.65625 14.8125 63.9375 \nQ 24.03125 74.21875 39.40625 74.21875 \nz\n\" id=\"DejaVuSans-79\"/>\n      <path d=\"M 64.40625 67.28125 \nL 64.40625 56.890625 \nQ 59.421875 61.53125 53.78125 63.8125 \nQ 48.140625 66.109375 41.796875 66.109375 \nQ 29.296875 66.109375 22.65625 58.46875 \nQ 16.015625 50.828125 16.015625 36.375 \nQ 16.015625 21.96875 22.65625 14.328125 \nQ 29.296875 6.6875 41.796875 6.6875 \nQ 48.140625 6.6875 53.78125 8.984375 \nQ 59.421875 11.28125 64.40625 15.921875 \nL 64.40625 5.609375 \nQ 59.234375 2.09375 53.4375 0.328125 \nQ 47.65625 -1.421875 41.21875 -1.421875 \nQ 24.65625 -1.421875 15.125 8.703125 \nQ 5.609375 18.84375 5.609375 36.375 \nQ 5.609375 53.953125 15.125 64.078125 \nQ 24.65625 74.21875 41.21875 74.21875 \nQ 47.75 74.21875 53.53125 72.484375 \nQ 59.328125 70.75 64.40625 67.28125 \nz\n\" id=\"DejaVuSans-67\"/>\n      <path d=\"M 9.8125 72.90625 \nL 19.671875 72.90625 \nL 19.671875 43.015625 \nL 55.515625 43.015625 \nL 55.515625 72.90625 \nL 65.375 72.90625 \nL 65.375 0 \nL 55.515625 0 \nL 55.515625 34.71875 \nL 19.671875 34.71875 \nL 19.671875 0 \nL 9.8125 0 \nz\n\" id=\"DejaVuSans-72\"/>\n     </defs>\n     <g transform=\"translate(200.182031 256.416562)scale(0.1 -0.1)\">\n      <use xlink:href=\"#DejaVuSans-69\"/>\n      <use x=\"63.183594\" xlink:href=\"#DejaVuSans-80\"/>\n      <use x=\"123.486328\" xlink:href=\"#DejaVuSans-79\"/>\n      <use x=\"202.197266\" xlink:href=\"#DejaVuSans-67\"/>\n      <use x=\"272.021484\" xlink:href=\"#DejaVuSans-72\"/>\n     </g>\n    </g>\n   </g>\n   <g id=\"matplotlib.axis_2\">\n    <g id=\"ytick_1\">\n     <g id=\"line2d_10\">\n      <defs>\n       <path d=\"M 0 0 \nL -3.5 0 \n\" id=\"m9d3848fff2\" style=\"stroke:#000000;stroke-width:0.8;\"/>\n      </defs>\n      <g>\n       <use style=\"stroke:#000000;stroke-width:0.8;\" x=\"50.14375\" xlink:href=\"#m9d3848fff2\" y=\"210.120096\"/>\n      </g>\n     </g>\n     <g id=\"text_11\">\n      <!-- 0.05 -->\n      <g transform=\"translate(20.878125 213.919315)scale(0.1 -0.1)\">\n       <use xlink:href=\"#DejaVuSans-48\"/>\n       <use x=\"63.623047\" xlink:href=\"#DejaVuSans-46\"/>\n       <use x=\"95.410156\" xlink:href=\"#DejaVuSans-48\"/>\n       <use x=\"159.033203\" xlink:href=\"#DejaVuSans-53\"/>\n      </g>\n     </g>\n    </g>\n    <g id=\"ytick_2\">\n     <g id=\"line2d_11\">\n      <g>\n       <use style=\"stroke:#000000;stroke-width:0.8;\" x=\"50.14375\" xlink:href=\"#m9d3848fff2\" y=\"162.97697\"/>\n      </g>\n     </g>\n     <g id=\"text_12\">\n      <!-- 0.10 -->\n      <g transform=\"translate(20.878125 166.776188)scale(0.1 -0.1)\">\n       <use xlink:href=\"#DejaVuSans-48\"/>\n       <use x=\"63.623047\" xlink:href=\"#DejaVuSans-46\"/>\n       <use x=\"95.410156\" xlink:href=\"#DejaVuSans-49\"/>\n       <use x=\"159.033203\" xlink:href=\"#DejaVuSans-48\"/>\n      </g>\n     </g>\n    </g>\n    <g id=\"ytick_3\">\n     <g id=\"line2d_12\">\n      <g>\n       <use style=\"stroke:#000000;stroke-width:0.8;\" x=\"50.14375\" xlink:href=\"#m9d3848fff2\" y=\"115.833843\"/>\n      </g>\n     </g>\n     <g id=\"text_13\">\n      <!-- 0.15 -->\n      <g transform=\"translate(20.878125 119.633062)scale(0.1 -0.1)\">\n       <use xlink:href=\"#DejaVuSans-48\"/>\n       <use x=\"63.623047\" xlink:href=\"#DejaVuSans-46\"/>\n       <use x=\"95.410156\" xlink:href=\"#DejaVuSans-49\"/>\n       <use x=\"159.033203\" xlink:href=\"#DejaVuSans-53\"/>\n      </g>\n     </g>\n    </g>\n    <g id=\"ytick_4\">\n     <g id=\"line2d_13\">\n      <g>\n       <use style=\"stroke:#000000;stroke-width:0.8;\" x=\"50.14375\" xlink:href=\"#m9d3848fff2\" y=\"68.690716\"/>\n      </g>\n     </g>\n     <g id=\"text_14\">\n      <!-- 0.20 -->\n      <g transform=\"translate(20.878125 72.489935)scale(0.1 -0.1)\">\n       <use xlink:href=\"#DejaVuSans-48\"/>\n       <use x=\"63.623047\" xlink:href=\"#DejaVuSans-46\"/>\n       <use x=\"95.410156\" xlink:href=\"#DejaVuSans-50\"/>\n       <use x=\"159.033203\" xlink:href=\"#DejaVuSans-48\"/>\n      </g>\n     </g>\n    </g>\n    <g id=\"ytick_5\">\n     <g id=\"line2d_14\">\n      <g>\n       <use style=\"stroke:#000000;stroke-width:0.8;\" x=\"50.14375\" xlink:href=\"#m9d3848fff2\" y=\"21.547589\"/>\n      </g>\n     </g>\n     <g id=\"text_15\">\n      <!-- 0.25 -->\n      <g transform=\"translate(20.878125 25.346808)scale(0.1 -0.1)\">\n       <use xlink:href=\"#DejaVuSans-48\"/>\n       <use x=\"63.623047\" xlink:href=\"#DejaVuSans-46\"/>\n       <use x=\"95.410156\" xlink:href=\"#DejaVuSans-50\"/>\n       <use x=\"159.033203\" xlink:href=\"#DejaVuSans-53\"/>\n      </g>\n     </g>\n    </g>\n    <g id=\"text_16\">\n     <!-- LOSS HISTORY -->\n     <defs>\n      <path d=\"M 9.8125 72.90625 \nL 19.671875 72.90625 \nL 19.671875 8.296875 \nL 55.171875 8.296875 \nL 55.171875 0 \nL 9.8125 0 \nz\n\" id=\"DejaVuSans-76\"/>\n      <path d=\"M 53.515625 70.515625 \nL 53.515625 60.890625 \nQ 47.90625 63.578125 42.921875 64.890625 \nQ 37.9375 66.21875 33.296875 66.21875 \nQ 25.25 66.21875 20.875 63.09375 \nQ 16.5 59.96875 16.5 54.203125 \nQ 16.5 49.359375 19.40625 46.890625 \nQ 22.3125 44.4375 30.421875 42.921875 \nL 36.375 41.703125 \nQ 47.40625 39.59375 52.65625 34.296875 \nQ 57.90625 29 57.90625 20.125 \nQ 57.90625 9.515625 50.796875 4.046875 \nQ 43.703125 -1.421875 29.984375 -1.421875 \nQ 24.8125 -1.421875 18.96875 -0.25 \nQ 13.140625 0.921875 6.890625 3.21875 \nL 6.890625 13.375 \nQ 12.890625 10.015625 18.65625 8.296875 \nQ 24.421875 6.59375 29.984375 6.59375 \nQ 38.421875 6.59375 43.015625 9.90625 \nQ 47.609375 13.234375 47.609375 19.390625 \nQ 47.609375 24.75 44.3125 27.78125 \nQ 41.015625 30.8125 33.5 32.328125 \nL 27.484375 33.5 \nQ 16.453125 35.6875 11.515625 40.375 \nQ 6.59375 45.0625 6.59375 53.421875 \nQ 6.59375 63.09375 13.40625 68.65625 \nQ 20.21875 74.21875 32.171875 74.21875 \nQ 37.3125 74.21875 42.625 73.28125 \nQ 47.953125 72.359375 53.515625 70.515625 \nz\n\" id=\"DejaVuSans-83\"/>\n      <path id=\"DejaVuSans-32\"/>\n      <path d=\"M 9.8125 72.90625 \nL 19.671875 72.90625 \nL 19.671875 0 \nL 9.8125 0 \nz\n\" id=\"DejaVuSans-73\"/>\n      <path d=\"M -0.296875 72.90625 \nL 61.375 72.90625 \nL 61.375 64.59375 \nL 35.5 64.59375 \nL 35.5 0 \nL 25.59375 0 \nL 25.59375 64.59375 \nL -0.296875 64.59375 \nz\n\" id=\"DejaVuSans-84\"/>\n      <path d=\"M 44.390625 34.1875 \nQ 47.5625 33.109375 50.5625 29.59375 \nQ 53.5625 26.078125 56.59375 19.921875 \nL 66.609375 0 \nL 56 0 \nL 46.6875 18.703125 \nQ 43.0625 26.03125 39.671875 28.421875 \nQ 36.28125 30.8125 30.421875 30.8125 \nL 19.671875 30.8125 \nL 19.671875 0 \nL 9.8125 0 \nL 9.8125 72.90625 \nL 32.078125 72.90625 \nQ 44.578125 72.90625 50.734375 67.671875 \nQ 56.890625 62.453125 56.890625 51.90625 \nQ 56.890625 45.015625 53.6875 40.46875 \nQ 50.484375 35.9375 44.390625 34.1875 \nz\nM 19.671875 64.796875 \nL 19.671875 38.921875 \nL 32.078125 38.921875 \nQ 39.203125 38.921875 42.84375 42.21875 \nQ 46.484375 45.515625 46.484375 51.90625 \nQ 46.484375 58.296875 42.84375 61.546875 \nQ 39.203125 64.796875 32.078125 64.796875 \nz\n\" id=\"DejaVuSans-82\"/>\n      <path d=\"M -0.203125 72.90625 \nL 10.40625 72.90625 \nL 30.609375 42.921875 \nL 50.6875 72.90625 \nL 61.28125 72.90625 \nL 35.5 34.71875 \nL 35.5 0 \nL 25.59375 0 \nL 25.59375 34.71875 \nz\n\" id=\"DejaVuSans-89\"/>\n     </defs>\n     <g transform=\"translate(14.798438 155.999687)rotate(-90)scale(0.1 -0.1)\">\n      <use xlink:href=\"#DejaVuSans-76\"/>\n      <use x=\"55.666016\" xlink:href=\"#DejaVuSans-79\"/>\n      <use x=\"134.376953\" xlink:href=\"#DejaVuSans-83\"/>\n      <use x=\"197.853516\" xlink:href=\"#DejaVuSans-83\"/>\n      <use x=\"261.330078\" xlink:href=\"#DejaVuSans-32\"/>\n      <use x=\"293.117188\" xlink:href=\"#DejaVuSans-72\"/>\n      <use x=\"368.3125\" xlink:href=\"#DejaVuSans-73\"/>\n      <use x=\"397.804688\" xlink:href=\"#DejaVuSans-83\"/>\n      <use x=\"461.28125\" xlink:href=\"#DejaVuSans-84\"/>\n      <use x=\"522.365234\" xlink:href=\"#DejaVuSans-79\"/>\n      <use x=\"601.076172\" xlink:href=\"#DejaVuSans-82\"/>\n      <use x=\"670.464844\" xlink:href=\"#DejaVuSans-89\"/>\n     </g>\n    </g>\n   </g>\n   <g id=\"line2d_15\">\n    <path clip-path=\"url(#pe214ccb9d2)\" d=\"M 65.361932 20.583636 \nL 80.580114 64.167833 \nL 95.798295 66.046734 \nL 111.016477 167.538668 \nL 126.234659 124.328356 \nL 141.452841 198.461756 \nL 156.671023 82.143571 \nL 171.889205 90.368039 \nL 187.107386 129.205389 \nL 202.325568 176.833201 \nL 217.54375 131.82207 \nL 232.761932 196.581777 \nL 247.980114 218.256364 \nL 263.198295 85.77869 \nL 278.416477 203.096613 \nL 293.634659 196.39186 \nL 308.852841 204.106214 \nL 324.071023 180.745135 \nL 339.289205 186.764074 \nL 354.507386 192.481253 \nL 369.725568 204.002091 \n\" style=\"fill:none;stroke:#1f77b4;stroke-linecap:square;stroke-width:1.5;\"/>\n   </g>\n   <g id=\"patch_3\">\n    <path d=\"M 50.14375 228.14 \nL 50.14375 10.7 \n\" style=\"fill:none;stroke:#000000;stroke-linecap:square;stroke-linejoin:miter;stroke-width:0.8;\"/>\n   </g>\n   <g id=\"patch_4\">\n    <path d=\"M 384.94375 228.14 \nL 384.94375 10.7 \n\" style=\"fill:none;stroke:#000000;stroke-linecap:square;stroke-linejoin:miter;stroke-width:0.8;\"/>\n   </g>\n   <g id=\"patch_5\">\n    <path d=\"M 50.14375 228.14 \nL 384.94375 228.14 \n\" style=\"fill:none;stroke:#000000;stroke-linecap:square;stroke-linejoin:miter;stroke-width:0.8;\"/>\n   </g>\n   <g id=\"patch_6\">\n    <path d=\"M 50.14375 10.7 \nL 384.94375 10.7 \n\" style=\"fill:none;stroke:#000000;stroke-linecap:square;stroke-linejoin:miter;stroke-width:0.8;\"/>\n   </g>\n  </g>\n </g>\n <defs>\n  <clipPath id=\"pe214ccb9d2\">\n   <rect height=\"217.44\" width=\"334.8\" x=\"50.14375\" y=\"10.7\"/>\n  </clipPath>\n </defs>\n</svg>\n",
      "image/png": "[encoded data removed]"
     },
     "metadata": {
      "needs_background": "light"
     }
    }
   ],
   "source": [
    "# PyTorch: Remember to first initialize the model and optimizer, then load the dictionary locally.\n",
    "model = NN(input_size=input_size, hidden_size=hidden_size, num_classes=num_classes).to(device)\n",
    "criterion = nn.CrossEntropyLoss()\n",
    "optimizer = optim.Adam(model.parameters(), lr=learning_rate)\n",
    "\n",
    "# Load model\n",
    "PATH = \"checkpoints/model_epoch15.pt\"\n",
    "checkpoint = torch.load(PATH)\n",
    "model.load_state_dict(checkpoint['model_state_dict'])\n",
    "optimizer.load_state_dict(checkpoint['optimizer_state_dict'])\n",
    "EPOCH = checkpoint['epoch']\n",
    "LOSS_HISTORY = checkpoint['loss_history']\n",
    "\n",
    "# Set model to train mode\n",
    "model.train()\n",
    "\n",
    "# Check accuracy on training data with loaded model \n",
    "check_accuracy(train_loader, model)\n",
    "\n",
    "# Train a little bit more\n",
    "for epoch in range(EPOCH, 21):\n",
    "    print(f'Epoch: {epoch}.')\n",
    "    for batch_idx, (data, targets) in enumerate(train_loader):\n",
    "        # Get data to cuda if possible\n",
    "        data = data.to(device=device)\n",
    "        targets = targets.to(device=device)\n",
    "\n",
    "        # Reshape to correct shape\n",
    "        data = data.reshape(data.shape[0], -1) # here i can use data.flatten(start_dim=1) to reshape\n",
    "        \n",
    "        # Forward pass\n",
    "        scores = model(data)\n",
    "        loss = criterion(scores, targets)\n",
    "\n",
    "        # Backward pass\n",
    "        optimizer.zero_grad() # Set gradient to zero on each batch\n",
    "        loss.backward()\n",
    "\n",
    "        # Gradient descent or Adam step\n",
    "        optimizer.step()    \n",
    "\n",
    "    LOSS_HISTORY.append(loss.clone().detach().cpu().numpy())\n",
    "\n",
    "# Check accuracy on training data with model more trained  \n",
    "check_accuracy(train_loader, model)\n",
    "\n",
    "# Print loss history\n",
    "plt.plot(LOSS_HISTORY)\n",
    "plt.ylabel('LOSS HISTORY')\n",
    "plt.xlabel('EPOCH')\n",
    "plt.show()\n",
    "\n",
    "\n"
   ]
  },
  {
   "source": [
    "## GPU memory utilization estimation"
   ],
   "cell_type": "markdown",
   "metadata": {}
  },
  {
   "cell_type": "code",
   "execution_count": 5,
   "metadata": {},
   "outputs": [
    {
     "output_type": "stream",
     "name": "stdout",
     "text": [
      "Pre-training Memory Usage:\n",
      "\t Allocated: 0.0000000000 MB.\n",
      "\t Cached: 0.0000000000 MB.\n",
      "After Memory Usage:\n",
      "\t Allocated: 0.8061523438 MB. Difference: 0.80615234375 MB.\n",
      "\t Cached: 2.0000000000 MB. Difference: 2.0 MB.\n"
     ]
    }
   ],
   "source": [
    "# total consumed GPU memory = GPU memory for parameters x 2 (one for value, one for gradient) + GPU memory for storing forward and backward responses + inputs\n",
    "# https://discuss.pytorch.org/t/gpu-memory-estimation-given-a-network/1713\n",
    "\n",
    "# Mi estimation of memory is (using summary(model, (64,784))):\n",
    "#   39760 params = 0.15 MB, ok\n",
    "#   input size = 0.19 MB, ok\n",
    "#   forward/backward pass size = 0.03 MB\n",
    "#   (according to summary) estimated total size = 0.37 MB\n",
    "\n",
    "# OBS: th estiamted total size if for params, input size, and forward pass. Not the loss\n",
    "# neither the back pass. Total is 0.80 MB, so the back pass is the same as estimated total size\n",
    "\n",
    "# OBS2: Each batch of images is 200704 bytes, so each entry is 4 bytes (64*28*28 = 200704bytes)\n",
    "\n",
    "\n",
    "# Now i will check if that is accurate. Have to estimate the memory for initialization of CUDA\n",
    "before_allocated = torch.cuda.memory_allocated(0)/1024**2\n",
    "befores_cached = torch.cuda.memory_reserved(0)/1024**2\n",
    "\n",
    "# The allocated memory is the memory that is currently used to store Tensors on the GPU.\n",
    "# The cached memory is the memory that is currently used on the GPU by pytorch (as can be seen in nvidia-smi).\n",
    "\n",
    "print('Pre-training Memory Usage:')\n",
    "print(f'\\t Allocated: {before_allocated:.10f} MB.')\n",
    "print(f'\\t Cached: {befores_cached:.10f} MB.')\n",
    "\n",
    "input_size = 784\n",
    "hidden_size = 50 \n",
    "num_classes = 10\n",
    "learning_rate=0.001\n",
    "batch_size = 64\n",
    "\n",
    "# Forward + backward pass\n",
    "model = NN(input_size=input_size, hidden_size=hidden_size, num_classes=num_classes).to(device)\n",
    "criterion = nn.CrossEntropyLoss()\n",
    "optimizer = optim.Adam(model.parameters(), lr=learning_rate)\n",
    "\n",
    "images, labels = iter(train_loader).next()\n",
    "images = images.to(device)\n",
    "\n",
    "labels = labels.to(device)\n",
    "\n",
    "images = images.flatten(start_dim=1)\n",
    "\n",
    "scores = model(images)\n",
    "loss = criterion(scores, labels)\n",
    "\n",
    "optimizer.zero_grad()\n",
    "loss.backward()\n",
    "\n",
    "optimizer.step()    \n",
    "\n",
    "\n",
    "after_allocated = torch.cuda.memory_allocated(0)/1024**2\n",
    "after_cached = torch.cuda.memory_reserved(0)/1024**2\n",
    "print('After Memory Usage:')\n",
    "print(f'\\t Allocated: {after_allocated:.10f} MB. Difference: {(after_allocated - before_allocated)} MB.')\n",
    "print(f'\\t Cached: {after_cached:.10f} MB. Difference: {(after_cached - befores_cached)} MB.')\n"
   ]
  },
  {
   "cell_type": "code",
   "execution_count": 2,
   "metadata": {},
   "outputs": [
    {
     "output_type": "stream",
     "name": "stdout",
     "text": [
      "Pre-training Memory Usage:\n",
      "\t Allocated: 0.0000000000 MB.\n",
      "\t Cached: 0.0000000000 MB.\n",
      "After Memory Usage:\n",
      "\t Allocated: 0.0004882812 MB. Difference: 0.00048828125 MB.\n",
      "\t Cached: 2.0000000000 MB. Difference: 2.0 MB.\n"
     ]
    }
   ],
   "source": [
    "# CUDA INITIALIZATION MEMORY\n",
    "\n",
    "before_allocated = torch.cuda.memory_allocated(0)/1024**2\n",
    "befores_cached = torch.cuda.memory_reserved(0)/1024**2\n",
    "\n",
    "print('Pre-training Memory Usage:')\n",
    "print(f'\\t Allocated: {before_allocated:.10f} MB.')\n",
    "print(f'\\t Cached: {befores_cached:.10f} MB.')\n",
    "\n",
    "a=torch.cuda.FloatTensor(1)\n",
    "\n",
    "after_allocated = torch.cuda.memory_allocated(0)/1024**2\n",
    "after_cached = torch.cuda.memory_reserved(0)/1024**2\n",
    "print('After Memory Usage:')\n",
    "print(f'\\t Allocated: {after_allocated:.10f} MB. Difference: {(after_allocated - before_allocated)} MB.')\n",
    "print(f'\\t Cached: {after_cached:.10f} MB. Difference: {(after_cached - befores_cached)} MB.')\n",
    "\n",
    "# 0.00048828125 MB"
   ]
  },
  {
   "source": [
    "OBS: pytorch estimates one pass of the newtork in 0.80MB, but with nvidia-smi i get from 400MB to 800MB aprox, i have to check this. \n",
    "Just initializing cuda, with nvidia-smi I get around 456 MB of difference\n"
   ],
   "cell_type": "markdown",
   "metadata": {}
  },
  {
   "source": [
    "### CUDA memory management: https://pytorch.org/docs/master/notes/cuda.html#cuda-memory-management"
   ],
   "cell_type": "markdown",
   "metadata": {}
  }
 ]
}